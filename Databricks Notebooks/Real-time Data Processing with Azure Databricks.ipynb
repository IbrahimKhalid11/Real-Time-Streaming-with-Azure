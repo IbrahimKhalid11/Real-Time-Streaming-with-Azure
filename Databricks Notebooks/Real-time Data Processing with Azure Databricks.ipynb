{
 "cells": [
  {
   "cell_type": "markdown",
   "metadata": {
    "application/vnd.databricks.v1+cell": {
     "cellMetadata": {},
     "inputWidgets": {},
     "nuid": "a7a39961-ef88-4c98-bdaf-32599b4e4106",
     "showTitle": false,
     "tableResultSettingsMap": {},
     "title": ""
    }
   },
   "source": [
    "# Real-time Data Processing with Azure Databricks\n"
   ]
  },
  {
   "cell_type": "markdown",
   "metadata": {
    "application/vnd.databricks.v1+cell": {
     "cellMetadata": {},
     "inputWidgets": {},
     "nuid": "e1a287c0-1c5e-4649-ad56-a7b03707a663",
     "showTitle": false,
     "tableResultSettingsMap": {},
     "title": ""
    }
   },
   "source": [
    "Importing the libraries."
   ]
  },
  {
   "cell_type": "code",
   "execution_count": 0,
   "metadata": {
    "application/vnd.databricks.v1+cell": {
     "cellMetadata": {
      "byteLimit": 2048000,
      "rowLimit": 10000
     },
     "inputWidgets": {},
     "nuid": "d376948f-980e-4887-a319-45a525172d43",
     "showTitle": false,
     "tableResultSettingsMap": {},
     "title": ""
    }
   },
   "outputs": [],
   "source": [
    "from pyspark.sql.functions import *\n",
    "from pyspark.sql.types import *"
   ]
  },
  {
   "cell_type": "markdown",
   "metadata": {
    "application/vnd.databricks.v1+cell": {
     "cellMetadata": {},
     "inputWidgets": {},
     "nuid": "6b5cc9f6-21cd-4201-a324-e97122c8203f",
     "showTitle": false,
     "tableResultSettingsMap": {},
     "title": ""
    }
   },
   "source": [
    "The code block below creates the catalog and schemas for our solution. \n",
    "\n",
    "The approach utilises a multi-hop data storage architecture (medallion), consisting of bronze, silver, and gold schemas within a 'streaming' catalog. "
   ]
  },
  {
   "cell_type": "code",
   "execution_count": 0,
   "metadata": {
    "application/vnd.databricks.v1+cell": {
     "cellMetadata": {
      "byteLimit": 2048000,
      "implicitDf": true,
      "rowLimit": 10000
     },
     "inputWidgets": {},
     "nuid": "49397d51-5412-4079-9159-06307954a7c1",
     "showTitle": false,
     "tableResultSettingsMap": {},
     "title": ""
    }
   },
   "outputs": [
    {
     "name": "stdout",
     "output_type": "stream",
     "text": [
      "check if catalog already exists\n",
      "check if bronze schema already exists\n",
      "check if silver schema already exists\n",
      "check if gold schema already exists\n"
     ]
    }
   ],
   "source": [
    "try:\n",
    "    spark.sql(\"create catalog streaming;\")\n",
    "except:\n",
    "    print('check if catalog already exists')\n",
    "\n",
    "try:\n",
    "    spark.sql(\"create schema streaming.bronze;\")\n",
    "except:\n",
    "    print('check if bronze schema already exists')\n",
    "\n",
    "try:\n",
    "    spark.sql(\"create schema streaming.silver\")\n",
    "except:\n",
    "    print('check if silver schema already exists')\n",
    "\n",
    "try:\n",
    "    spark.sql(\"create schema streaming.gold;\")\n",
    "except:\n",
    "    print('check if gold schema already exists')"
   ]
  },
  {
   "cell_type": "markdown",
   "metadata": {
    "application/vnd.databricks.v1+cell": {
     "cellMetadata": {},
     "inputWidgets": {},
     "nuid": "90b61da0-3b55-4941-8436-2411646fa4f9",
     "showTitle": false,
     "tableResultSettingsMap": {},
     "title": ""
    }
   },
   "source": [
    "#### Bronze Layer"
   ]
  },
  {
   "cell_type": "markdown",
   "metadata": {
    "application/vnd.databricks.v1+cell": {
     "cellMetadata": {},
     "inputWidgets": {},
     "nuid": "8806de51-7d1e-4dcc-8981-27f5a3447f96",
     "showTitle": false,
     "tableResultSettingsMap": {},
     "title": ""
    }
   },
   "source": [
    "Set up Azure Event hubs connection string By key vault."
   ]
  },
  {
   "cell_type": "code",
   "execution_count": 0,
   "metadata": {
    "application/vnd.databricks.v1+cell": {
     "cellMetadata": {
      "byteLimit": 2048000,
      "rowLimit": 10000
     },
     "inputWidgets": {},
     "nuid": "3397f5f1-841b-4911-9099-8b99b92ab7c0",
     "showTitle": false,
     "tableResultSettingsMap": {},
     "title": ""
    }
   },
   "outputs": [],
   "source": [
    "%python\n",
    "connectionString = dbutils.secrets.get(\"ConnectionScope\", key=\"ConnectionStringEventHub\")\n",
    "eventHubName = \"firsteventhub\"\n",
    "\n",
    "ehConf = {\n",
    "  'eventhubs.connectionString' : sc._jvm.org.apache.spark.eventhubs.EventHubsUtils.encrypt(connectionString),\n",
    "  'eventhubs.eventHubName': eventHubName\n",
    "}"
   ]
  },
  {
   "cell_type": "markdown",
   "metadata": {
    "application/vnd.databricks.v1+cell": {
     "cellMetadata": {},
     "inputWidgets": {},
     "nuid": "37b28ff3-52b8-4a3f-ad67-758854096a2b",
     "showTitle": false,
     "tableResultSettingsMap": {},
     "title": ""
    }
   },
   "source": [
    "Reading and writing the stream to the bronze layer."
   ]
  },
  {
   "cell_type": "code",
   "execution_count": 0,
   "metadata": {
    "application/vnd.databricks.v1+cell": {
     "cellMetadata": {
      "byteLimit": 2048000,
      "rowLimit": 10000
     },
     "inputWidgets": {},
     "nuid": "3ab57af3-36c7-4ffa-b13f-a833d7a2dc53",
     "showTitle": false,
     "tableResultSettingsMap": {},
     "title": ""
    }
   },
   "outputs": [
    {
     "data": {
      "text/html": [
       "<style scoped>\n",
       "  .table-result-container {\n",
       "    max-height: 300px;\n",
       "    overflow: auto;\n",
       "  }\n",
       "  table, th, td {\n",
       "    border: 1px solid black;\n",
       "    border-collapse: collapse;\n",
       "  }\n",
       "  th, td {\n",
       "    padding: 5px;\n",
       "  }\n",
       "  th {\n",
       "    text-align: left;\n",
       "  }\n",
       "</style><div class='table-result-container'><table class='table-result'><thead style='background-color: white'><tr><th>body</th><th>partition</th><th>offset</th><th>sequenceNumber</th><th>enqueuedTime</th><th>publisher</th><th>partitionKey</th><th>properties</th><th>systemProperties</th></tr></thead><tbody><tr><td>eyJ0ZW1wZXJhdHVyZSI6IDIwLjcsICJodW1pZGl0eSI6IDk1LCAid2luZFNwZWVkIjogMjIuMCwgIndpbmREaXJlY3Rpb24iOiAiTkUiLCAicHJlY2lwaXRhdGlvbiI6IDYuNSwgImNvbmRpdGlvbnMiOiAiUGFydGx5IENsb3U= (truncated)</td><td>0</td><td>12884909920</td><td>808</td><td>2024-12-25T19:53:41.475Z</td><td>null</td><td>null</td><td>Map()</td><td>Map(x-opt-sequence-number-epoch -> -1)</td></tr><tr><td>eyJ0ZW1wZXJhdHVyZSI6IDMzLjQsICJodW1pZGl0eSI6IDI4LCAid2luZFNwZWVkIjogMTguNywgIndpbmREaXJlY3Rpb24iOiAiTkUiLCAicHJlY2lwaXRhdGlvbiI6IDQ0LjQsICJjb25kaXRpb25zIjogIk92ZXJjYXN0In0=</td><td>0</td><td>12884910120</td><td>809</td><td>2024-12-25T19:53:46.615Z</td><td>null</td><td>null</td><td>Map()</td><td>Map(x-opt-sequence-number-epoch -> -1)</td></tr><tr><td>eyJ0ZW1wZXJhdHVyZSI6IDcuOCwgImh1bWlkaXR5IjogMzgsICJ3aW5kU3BlZWQiOiAxOS4wLCAid2luZERpcmVjdGlvbiI6ICJOIiwgInByZWNpcGl0YXRpb24iOiAzLjIsICJjb25kaXRpb25zIjogIlJhaW4ifQ==</td><td>0</td><td>12884910320</td><td>810</td><td>2024-12-25T19:53:51.756Z</td><td>null</td><td>null</td><td>Map()</td><td>Map(x-opt-sequence-number-epoch -> -1)</td></tr><tr><td>eyJ0ZW1wZXJhdHVyZSI6IDAuOSwgImh1bWlkaXR5IjogNzcsICJ3aW5kU3BlZWQiOiAxOC43LCAid2luZERpcmVjdGlvbiI6ICJOIiwgInByZWNpcGl0YXRpb24iOiAyMi41LCAiY29uZGl0aW9ucyI6ICJQYXJ0bHkgQ2xvdWQ= (truncated)</td><td>0</td><td>12884910512</td><td>811</td><td>2024-12-25T19:53:56.912Z</td><td>null</td><td>null</td><td>Map()</td><td>Map(x-opt-sequence-number-epoch -> -1)</td></tr><tr><td>eyJ0ZW1wZXJhdHVyZSI6IDE3LjgsICJodW1pZGl0eSI6IDYzLCAid2luZFNwZWVkIjogMjQuMSwgIndpbmREaXJlY3Rpb24iOiAiTlciLCAicHJlY2lwaXRhdGlvbiI6IDM1LjksICJjb25kaXRpb25zIjogIlBhcnRseSBDbG8= (truncated)</td><td>0</td><td>12884910712</td><td>812</td><td>2024-12-25T19:54:02.069Z</td><td>null</td><td>null</td><td>Map()</td><td>Map(x-opt-sequence-number-epoch -> -1)</td></tr><tr><td>eyJ0ZW1wZXJhdHVyZSI6IDIyLjcsICJodW1pZGl0eSI6IDM4LCAid2luZFNwZWVkIjogNC42LCAid2luZERpcmVjdGlvbiI6ICJORSIsICJwcmVjaXBpdGF0aW9uIjogMzguNiwgImNvbmRpdGlvbnMiOiAiT3ZlcmNhc3QifQ==</td><td>0</td><td>12884910920</td><td>813</td><td>2024-12-25T19:54:07.209Z</td><td>null</td><td>null</td><td>Map()</td><td>Map(x-opt-sequence-number-epoch -> -1)</td></tr><tr><td>eyJ0ZW1wZXJhdHVyZSI6IDI5LjYsICJodW1pZGl0eSI6IDE1LCAid2luZFNwZWVkIjogMTYuOSwgIndpbmREaXJlY3Rpb24iOiAiTiIsICJwcmVjaXBpdGF0aW9uIjogNDIuOCwgImNvbmRpdGlvbnMiOiAiT3ZlcmNhc3QifQ==</td><td>0</td><td>12884911120</td><td>814</td><td>2024-12-25T19:54:12.35Z</td><td>null</td><td>null</td><td>Map()</td><td>Map(x-opt-sequence-number-epoch -> -1)</td></tr><tr><td>eyJ0ZW1wZXJhdHVyZSI6IDIwLjksICJodW1pZGl0eSI6IDk2LCAid2luZFNwZWVkIjogMjMuMSwgIndpbmREaXJlY3Rpb24iOiAiVyIsICJwcmVjaXBpdGF0aW9uIjogMjEuMSwgImNvbmRpdGlvbnMiOiAiT3ZlcmNhc3QifQ==</td><td>0</td><td>12884911320</td><td>815</td><td>2024-12-25T19:54:17.491Z</td><td>null</td><td>null</td><td>Map()</td><td>Map(x-opt-sequence-number-epoch -> -1)</td></tr><tr><td>eyJ0ZW1wZXJhdHVyZSI6IDkuNywgImh1bWlkaXR5IjogMzYsICJ3aW5kU3BlZWQiOiAyNy40LCAid2luZERpcmVjdGlvbiI6ICJXIiwgInByZWNpcGl0YXRpb24iOiA1MC4wLCAiY29uZGl0aW9ucyI6ICJSYWluIn0=</td><td>0</td><td>12884911520</td><td>816</td><td>2024-12-25T19:54:22.647Z</td><td>null</td><td>null</td><td>Map()</td><td>Map(x-opt-sequence-number-epoch -> -1)</td></tr><tr><td>eyJ0ZW1wZXJhdHVyZSI6IDE2LjAsICJodW1pZGl0eSI6IDYxLCAid2luZFNwZWVkIjogMTYuOCwgIndpbmREaXJlY3Rpb24iOiAiTlciLCAicHJlY2lwaXRhdGlvbiI6IDkuNywgImNvbmRpdGlvbnMiOiAiUmFpbiJ9</td><td>0</td><td>12884911712</td><td>817</td><td>2024-12-25T19:54:27.788Z</td><td>null</td><td>null</td><td>Map()</td><td>Map(x-opt-sequence-number-epoch -> -1)</td></tr><tr><td>eyJ0ZW1wZXJhdHVyZSI6IDE0LjEsICJodW1pZGl0eSI6IDEyLCAid2luZFNwZWVkIjogMTIuNCwgIndpbmREaXJlY3Rpb24iOiAiUyIsICJwcmVjaXBpdGF0aW9uIjogMTAuMCwgImNvbmRpdGlvbnMiOiAiUmFpbiJ9</td><td>0</td><td>12884911904</td><td>818</td><td>2024-12-25T19:54:32.928Z</td><td>null</td><td>null</td><td>Map()</td><td>Map(x-opt-sequence-number-epoch -> -1)</td></tr><tr><td>eyJ0ZW1wZXJhdHVyZSI6IDI2LjMsICJodW1pZGl0eSI6IDgyLCAid2luZFNwZWVkIjogNS42LCAid2luZERpcmVjdGlvbiI6ICJTIiwgInByZWNpcGl0YXRpb24iOiAyMi41LCAiY29uZGl0aW9ucyI6ICJTdW5ueSJ9</td><td>0</td><td>12884912096</td><td>819</td><td>2024-12-25T19:54:38.069Z</td><td>null</td><td>null</td><td>Map()</td><td>Map(x-opt-sequence-number-epoch -> -1)</td></tr><tr><td>eyJ0ZW1wZXJhdHVyZSI6IDIyLjQsICJodW1pZGl0eSI6IDEzLCAid2luZFNwZWVkIjogMTEuOCwgIndpbmREaXJlY3Rpb24iOiAiU1ciLCAicHJlY2lwaXRhdGlvbiI6IDM4LjcsICJjb25kaXRpb25zIjogIlNub3cifQ==</td><td>0</td><td>12884912288</td><td>820</td><td>2024-12-25T19:54:43.21Z</td><td>null</td><td>null</td><td>Map()</td><td>Map(x-opt-sequence-number-epoch -> -1)</td></tr><tr><td>eyJ0ZW1wZXJhdHVyZSI6IDM5LjQsICJodW1pZGl0eSI6IDcyLCAid2luZFNwZWVkIjogNy45LCAid2luZERpcmVjdGlvbiI6ICJTIiwgInByZWNpcGl0YXRpb24iOiA0OS4zLCAiY29uZGl0aW9ucyI6ICJQYXJ0bHkgQ2xvdWQ= (truncated)</td><td>0</td><td>12884912480</td><td>821</td><td>2024-12-25T19:54:48.351Z</td><td>null</td><td>null</td><td>Map()</td><td>Map(x-opt-sequence-number-epoch -> -1)</td></tr><tr><td>eyJ0ZW1wZXJhdHVyZSI6IDAuMywgImh1bWlkaXR5IjogNzMsICJ3aW5kU3BlZWQiOiAyNS44LCAid2luZERpcmVjdGlvbiI6ICJORSIsICJwcmVjaXBpdGF0aW9uIjogNC45LCAiY29uZGl0aW9ucyI6ICJPdmVyY2FzdCJ9</td><td>0</td><td>12884912680</td><td>822</td><td>2024-12-25T19:54:53.507Z</td><td>null</td><td>null</td><td>Map()</td><td>Map(x-opt-sequence-number-epoch -> -1)</td></tr><tr><td>eyJ0ZW1wZXJhdHVyZSI6IDUuNywgImh1bWlkaXR5IjogNTQsICJ3aW5kU3BlZWQiOiAxNy44LCAid2luZERpcmVjdGlvbiI6ICJTRSIsICJwcmVjaXBpdGF0aW9uIjogMzMuNiwgImNvbmRpdGlvbnMiOiAiU3VubnkifQ==</td><td>0</td><td>12884912880</td><td>823</td><td>2024-12-25T19:54:58.663Z</td><td>null</td><td>null</td><td>Map()</td><td>Map(x-opt-sequence-number-epoch -> -1)</td></tr></tbody></table></div>"
      ]
     },
     "metadata": {
      "application/vnd.databricks.v1+output": {
       "addedWidgets": {},
       "aggData": [],
       "aggError": "",
       "aggOverflow": false,
       "aggSchema": [],
       "aggSeriesLimitReached": false,
       "aggType": "",
       "arguments": {},
       "columnCustomDisplayInfos": {},
       "data": [
        [
         "eyJ0ZW1wZXJhdHVyZSI6IDIwLjcsICJodW1pZGl0eSI6IDk1LCAid2luZFNwZWVkIjogMjIuMCwgIndpbmREaXJlY3Rpb24iOiAiTkUiLCAicHJlY2lwaXRhdGlvbiI6IDYuNSwgImNvbmRpdGlvbnMiOiAiUGFydGx5IENsb3U= (truncated)",
         "0",
         "12884909920",
         808,
         "2024-12-25T19:53:41.475Z",
         null,
         null,
         {},
         {
          "x-opt-sequence-number-epoch": "-1"
         }
        ],
        [
         "eyJ0ZW1wZXJhdHVyZSI6IDMzLjQsICJodW1pZGl0eSI6IDI4LCAid2luZFNwZWVkIjogMTguNywgIndpbmREaXJlY3Rpb24iOiAiTkUiLCAicHJlY2lwaXRhdGlvbiI6IDQ0LjQsICJjb25kaXRpb25zIjogIk92ZXJjYXN0In0=",
         "0",
         "12884910120",
         809,
         "2024-12-25T19:53:46.615Z",
         null,
         null,
         {},
         {
          "x-opt-sequence-number-epoch": "-1"
         }
        ],
        [
         "eyJ0ZW1wZXJhdHVyZSI6IDcuOCwgImh1bWlkaXR5IjogMzgsICJ3aW5kU3BlZWQiOiAxOS4wLCAid2luZERpcmVjdGlvbiI6ICJOIiwgInByZWNpcGl0YXRpb24iOiAzLjIsICJjb25kaXRpb25zIjogIlJhaW4ifQ==",
         "0",
         "12884910320",
         810,
         "2024-12-25T19:53:51.756Z",
         null,
         null,
         {},
         {
          "x-opt-sequence-number-epoch": "-1"
         }
        ],
        [
         "eyJ0ZW1wZXJhdHVyZSI6IDAuOSwgImh1bWlkaXR5IjogNzcsICJ3aW5kU3BlZWQiOiAxOC43LCAid2luZERpcmVjdGlvbiI6ICJOIiwgInByZWNpcGl0YXRpb24iOiAyMi41LCAiY29uZGl0aW9ucyI6ICJQYXJ0bHkgQ2xvdWQ= (truncated)",
         "0",
         "12884910512",
         811,
         "2024-12-25T19:53:56.912Z",
         null,
         null,
         {},
         {
          "x-opt-sequence-number-epoch": "-1"
         }
        ],
        [
         "eyJ0ZW1wZXJhdHVyZSI6IDE3LjgsICJodW1pZGl0eSI6IDYzLCAid2luZFNwZWVkIjogMjQuMSwgIndpbmREaXJlY3Rpb24iOiAiTlciLCAicHJlY2lwaXRhdGlvbiI6IDM1LjksICJjb25kaXRpb25zIjogIlBhcnRseSBDbG8= (truncated)",
         "0",
         "12884910712",
         812,
         "2024-12-25T19:54:02.069Z",
         null,
         null,
         {},
         {
          "x-opt-sequence-number-epoch": "-1"
         }
        ],
        [
         "eyJ0ZW1wZXJhdHVyZSI6IDIyLjcsICJodW1pZGl0eSI6IDM4LCAid2luZFNwZWVkIjogNC42LCAid2luZERpcmVjdGlvbiI6ICJORSIsICJwcmVjaXBpdGF0aW9uIjogMzguNiwgImNvbmRpdGlvbnMiOiAiT3ZlcmNhc3QifQ==",
         "0",
         "12884910920",
         813,
         "2024-12-25T19:54:07.209Z",
         null,
         null,
         {},
         {
          "x-opt-sequence-number-epoch": "-1"
         }
        ],
        [
         "eyJ0ZW1wZXJhdHVyZSI6IDI5LjYsICJodW1pZGl0eSI6IDE1LCAid2luZFNwZWVkIjogMTYuOSwgIndpbmREaXJlY3Rpb24iOiAiTiIsICJwcmVjaXBpdGF0aW9uIjogNDIuOCwgImNvbmRpdGlvbnMiOiAiT3ZlcmNhc3QifQ==",
         "0",
         "12884911120",
         814,
         "2024-12-25T19:54:12.35Z",
         null,
         null,
         {},
         {
          "x-opt-sequence-number-epoch": "-1"
         }
        ],
        [
         "eyJ0ZW1wZXJhdHVyZSI6IDIwLjksICJodW1pZGl0eSI6IDk2LCAid2luZFNwZWVkIjogMjMuMSwgIndpbmREaXJlY3Rpb24iOiAiVyIsICJwcmVjaXBpdGF0aW9uIjogMjEuMSwgImNvbmRpdGlvbnMiOiAiT3ZlcmNhc3QifQ==",
         "0",
         "12884911320",
         815,
         "2024-12-25T19:54:17.491Z",
         null,
         null,
         {},
         {
          "x-opt-sequence-number-epoch": "-1"
         }
        ],
        [
         "eyJ0ZW1wZXJhdHVyZSI6IDkuNywgImh1bWlkaXR5IjogMzYsICJ3aW5kU3BlZWQiOiAyNy40LCAid2luZERpcmVjdGlvbiI6ICJXIiwgInByZWNpcGl0YXRpb24iOiA1MC4wLCAiY29uZGl0aW9ucyI6ICJSYWluIn0=",
         "0",
         "12884911520",
         816,
         "2024-12-25T19:54:22.647Z",
         null,
         null,
         {},
         {
          "x-opt-sequence-number-epoch": "-1"
         }
        ],
        [
         "eyJ0ZW1wZXJhdHVyZSI6IDE2LjAsICJodW1pZGl0eSI6IDYxLCAid2luZFNwZWVkIjogMTYuOCwgIndpbmREaXJlY3Rpb24iOiAiTlciLCAicHJlY2lwaXRhdGlvbiI6IDkuNywgImNvbmRpdGlvbnMiOiAiUmFpbiJ9",
         "0",
         "12884911712",
         817,
         "2024-12-25T19:54:27.788Z",
         null,
         null,
         {},
         {
          "x-opt-sequence-number-epoch": "-1"
         }
        ],
        [
         "eyJ0ZW1wZXJhdHVyZSI6IDE0LjEsICJodW1pZGl0eSI6IDEyLCAid2luZFNwZWVkIjogMTIuNCwgIndpbmREaXJlY3Rpb24iOiAiUyIsICJwcmVjaXBpdGF0aW9uIjogMTAuMCwgImNvbmRpdGlvbnMiOiAiUmFpbiJ9",
         "0",
         "12884911904",
         818,
         "2024-12-25T19:54:32.928Z",
         null,
         null,
         {},
         {
          "x-opt-sequence-number-epoch": "-1"
         }
        ],
        [
         "eyJ0ZW1wZXJhdHVyZSI6IDI2LjMsICJodW1pZGl0eSI6IDgyLCAid2luZFNwZWVkIjogNS42LCAid2luZERpcmVjdGlvbiI6ICJTIiwgInByZWNpcGl0YXRpb24iOiAyMi41LCAiY29uZGl0aW9ucyI6ICJTdW5ueSJ9",
         "0",
         "12884912096",
         819,
         "2024-12-25T19:54:38.069Z",
         null,
         null,
         {},
         {
          "x-opt-sequence-number-epoch": "-1"
         }
        ],
        [
         "eyJ0ZW1wZXJhdHVyZSI6IDIyLjQsICJodW1pZGl0eSI6IDEzLCAid2luZFNwZWVkIjogMTEuOCwgIndpbmREaXJlY3Rpb24iOiAiU1ciLCAicHJlY2lwaXRhdGlvbiI6IDM4LjcsICJjb25kaXRpb25zIjogIlNub3cifQ==",
         "0",
         "12884912288",
         820,
         "2024-12-25T19:54:43.21Z",
         null,
         null,
         {},
         {
          "x-opt-sequence-number-epoch": "-1"
         }
        ],
        [
         "eyJ0ZW1wZXJhdHVyZSI6IDM5LjQsICJodW1pZGl0eSI6IDcyLCAid2luZFNwZWVkIjogNy45LCAid2luZERpcmVjdGlvbiI6ICJTIiwgInByZWNpcGl0YXRpb24iOiA0OS4zLCAiY29uZGl0aW9ucyI6ICJQYXJ0bHkgQ2xvdWQ= (truncated)",
         "0",
         "12884912480",
         821,
         "2024-12-25T19:54:48.351Z",
         null,
         null,
         {},
         {
          "x-opt-sequence-number-epoch": "-1"
         }
        ],
        [
         "eyJ0ZW1wZXJhdHVyZSI6IDAuMywgImh1bWlkaXR5IjogNzMsICJ3aW5kU3BlZWQiOiAyNS44LCAid2luZERpcmVjdGlvbiI6ICJORSIsICJwcmVjaXBpdGF0aW9uIjogNC45LCAiY29uZGl0aW9ucyI6ICJPdmVyY2FzdCJ9",
         "0",
         "12884912680",
         822,
         "2024-12-25T19:54:53.507Z",
         null,
         null,
         {},
         {
          "x-opt-sequence-number-epoch": "-1"
         }
        ],
        [
         "eyJ0ZW1wZXJhdHVyZSI6IDUuNywgImh1bWlkaXR5IjogNTQsICJ3aW5kU3BlZWQiOiAxNy44LCAid2luZERpcmVjdGlvbiI6ICJTRSIsICJwcmVjaXBpdGF0aW9uIjogMzMuNiwgImNvbmRpdGlvbnMiOiAiU3VubnkifQ==",
         "0",
         "12884912880",
         823,
         "2024-12-25T19:54:58.663Z",
         null,
         null,
         {},
         {
          "x-opt-sequence-number-epoch": "-1"
         }
        ]
       ],
       "datasetInfos": [],
       "dbfsResultPath": null,
       "isJsonSchema": true,
       "metadata": {
        "isDbfsCommandResult": false
       },
       "overflow": false,
       "plotOptions": {
        "customPlotOptions": {},
        "displayType": "table",
        "pivotAggregation": null,
        "pivotColumns": null,
        "xColumns": null,
        "yColumns": null
       },
       "removedWidgets": [],
       "schema": [
        {
         "metadata": "{}",
         "name": "body",
         "type": "\"binary\""
        },
        {
         "metadata": "{}",
         "name": "partition",
         "type": "\"string\""
        },
        {
         "metadata": "{}",
         "name": "offset",
         "type": "\"string\""
        },
        {
         "metadata": "{}",
         "name": "sequenceNumber",
         "type": "\"long\""
        },
        {
         "metadata": "{}",
         "name": "enqueuedTime",
         "type": "\"timestamp\""
        },
        {
         "metadata": "{}",
         "name": "publisher",
         "type": "\"string\""
        },
        {
         "metadata": "{}",
         "name": "partitionKey",
         "type": "\"string\""
        },
        {
         "metadata": "{}",
         "name": "properties",
         "type": "{\"type\":\"map\",\"keyType\":\"string\",\"valueType\":\"string\",\"valueContainsNull\":true}"
        },
        {
         "metadata": "{}",
         "name": "systemProperties",
         "type": "{\"type\":\"map\",\"keyType\":\"string\",\"valueType\":\"string\",\"valueContainsNull\":true}"
        }
       ],
       "type": "table"
      }
     },
     "output_type": "display_data"
    }
   ],
   "source": [
    "df = spark.readStream \\\n",
    "    .format(\"eventhubs\") \\\n",
    "    .options(**ehConf) \\\n",
    "    .load() \\\n",
    "\n",
    "df.display()\n",
    "\n",
    "df.writeStream\\\n",
    "    .option(\"checkpointLocation\", \"/mnt/streaming/bronze/weather\")\\\n",
    "    .outputMode(\"append\")\\\n",
    "    .format(\"delta\")\\\n",
    "    .toTable(\"streaming.bronze.weather\")"
   ]
  },
  {
   "cell_type": "markdown",
   "metadata": {
    "application/vnd.databricks.v1+cell": {
     "cellMetadata": {},
     "inputWidgets": {},
     "nuid": "dbee364e-6b7e-420f-8b98-8a12d663d880",
     "showTitle": false,
     "tableResultSettingsMap": {},
     "title": ""
    }
   },
   "source": [
    "#### Silver Layer"
   ]
  },
  {
   "cell_type": "markdown",
   "metadata": {
    "application/vnd.databricks.v1+cell": {
     "cellMetadata": {},
     "inputWidgets": {},
     "nuid": "8c824846-2235-4e3b-8e75-68281293d50b",
     "showTitle": false,
     "tableResultSettingsMap": {},
     "title": ""
    }
   },
   "source": [
    "Defining the schema for the JSON object."
   ]
  },
  {
   "cell_type": "code",
   "execution_count": 0,
   "metadata": {
    "application/vnd.databricks.v1+cell": {
     "cellMetadata": {
      "byteLimit": 2048000,
      "rowLimit": 10000
     },
     "inputWidgets": {},
     "nuid": "4b661190-f917-448b-9093-1017dde3bb25",
     "showTitle": false,
     "tableResultSettingsMap": {},
     "title": ""
    }
   },
   "outputs": [],
   "source": [
    "json_schema = StructType([\n",
    "    StructField(\"temperature\", IntegerType()),\n",
    "    StructField(\"humidity\", IntegerType()),\n",
    "    StructField(\"windSpeed\", IntegerType()),\n",
    "    StructField(\"windDirection\", StringType()),\n",
    "    StructField(\"precipitation\", IntegerType()),\n",
    "    StructField(\"conditions\", StringType())\n",
    "])"
   ]
  },
  {
   "cell_type": "markdown",
   "metadata": {
    "application/vnd.databricks.v1+cell": {
     "cellMetadata": {},
     "inputWidgets": {},
     "nuid": "fcd659c9-65fc-4112-be6e-06f63196311f",
     "showTitle": false,
     "tableResultSettingsMap": {},
     "title": ""
    }
   },
   "source": [
    "Reading, transforming and writing the stream from the bronze to the silver layer."
   ]
  },
  {
   "cell_type": "code",
   "execution_count": 0,
   "metadata": {
    "application/vnd.databricks.v1+cell": {
     "cellMetadata": {
      "byteLimit": 2048000,
      "rowLimit": 10000
     },
     "inputWidgets": {},
     "nuid": "18db15d2-f3d1-4dd7-b5aa-ef421208b46c",
     "showTitle": false,
     "tableResultSettingsMap": {},
     "title": ""
    }
   },
   "outputs": [
    {
     "data": {
      "text/html": [
       "<style scoped>\n",
       "  .table-result-container {\n",
       "    max-height: 300px;\n",
       "    overflow: auto;\n",
       "  }\n",
       "  table, th, td {\n",
       "    border: 1px solid black;\n",
       "    border-collapse: collapse;\n",
       "  }\n",
       "  th, td {\n",
       "    padding: 5px;\n",
       "  }\n",
       "  th {\n",
       "    text-align: left;\n",
       "  }\n",
       "</style><div class='table-result-container'><table class='table-result'><thead style='background-color: white'><tr><th>temperature</th><th>humidity</th><th>windSpeed</th><th>windDirection</th><th>precipitation</th><th>conditions</th><th>timestamp</th></tr></thead><tbody><tr><td>null</td><td>47</td><td>null</td><td>NW</td><td>null</td><td>Partly Cloudy</td><td>2024-12-25T19:45:28.015Z</td></tr><tr><td>null</td><td>92</td><td>null</td><td>W</td><td>null</td><td>Rain</td><td>2024-12-25T19:45:33.202Z</td></tr><tr><td>null</td><td>11</td><td>null</td><td>W</td><td>null</td><td>Partly Cloudy</td><td>2024-12-25T19:45:38.359Z</td></tr><tr><td>null</td><td>60</td><td>null</td><td>NW</td><td>null</td><td>Partly Cloudy</td><td>2024-12-25T19:45:43.515Z</td></tr><tr><td>null</td><td>72</td><td>null</td><td>NW</td><td>null</td><td>Overcast</td><td>2024-12-25T19:45:48.671Z</td></tr><tr><td>null</td><td>18</td><td>null</td><td>SE</td><td>null</td><td>Snow</td><td>2024-12-25T19:45:53.812Z</td></tr><tr><td>null</td><td>65</td><td>null</td><td>N</td><td>null</td><td>Rain</td><td>2024-12-25T19:45:58.968Z</td></tr><tr><td>null</td><td>51</td><td>null</td><td>NE</td><td>null</td><td>Rain</td><td>2024-12-25T19:46:04.124Z</td></tr><tr><td>null</td><td>18</td><td>null</td><td>E</td><td>null</td><td>Snow</td><td>2024-12-25T19:46:09.265Z</td></tr><tr><td>null</td><td>60</td><td>null</td><td>S</td><td>null</td><td>Partly Cloudy</td><td>2024-12-25T19:46:14.422Z</td></tr><tr><td>null</td><td>45</td><td>null</td><td>SW</td><td>null</td><td>Sunny</td><td>2024-12-25T19:46:19.562Z</td></tr><tr><td>null</td><td>95</td><td>null</td><td>S</td><td>null</td><td>Overcast</td><td>2024-12-25T19:46:24.875Z</td></tr><tr><td>null</td><td>37</td><td>null</td><td>S</td><td>null</td><td>Rain</td><td>2024-12-25T19:46:30.015Z</td></tr><tr><td>null</td><td>98</td><td>null</td><td>E</td><td>null</td><td>Partly Cloudy</td><td>2024-12-25T19:46:35.203Z</td></tr><tr><td>null</td><td>18</td><td>null</td><td>W</td><td>null</td><td>Rain</td><td>2024-12-25T19:46:40.344Z</td></tr><tr><td>null</td><td>12</td><td>null</td><td>S</td><td>null</td><td>Partly Cloudy</td><td>2024-12-25T19:46:45.484Z</td></tr><tr><td>null</td><td>38</td><td>null</td><td>N</td><td>null</td><td>Partly Cloudy</td><td>2024-12-25T19:46:50.625Z</td></tr><tr><td>null</td><td>42</td><td>null</td><td>S</td><td>null</td><td>Sunny</td><td>2024-12-25T19:46:55.766Z</td></tr><tr><td>null</td><td>83</td><td>null</td><td>NW</td><td>null</td><td>Snow</td><td>2024-12-25T19:47:01Z</td></tr><tr><td>null</td><td>97</td><td>null</td><td>SE</td><td>null</td><td>Snow</td><td>2024-12-25T19:47:06.141Z</td></tr><tr><td>null</td><td>63</td><td>null</td><td>SE</td><td>null</td><td>Sunny</td><td>2024-12-25T19:47:11.282Z</td></tr><tr><td>null</td><td>63</td><td>null</td><td>NW</td><td>null</td><td>Overcast</td><td>2024-12-25T19:47:16.422Z</td></tr><tr><td>null</td><td>100</td><td>null</td><td>S</td><td>null</td><td>Snow</td><td>2024-12-25T19:47:21.563Z</td></tr><tr><td>null</td><td>62</td><td>null</td><td>NE</td><td>null</td><td>Partly Cloudy</td><td>2024-12-25T19:47:26.719Z</td></tr><tr><td>null</td><td>10</td><td>null</td><td>SW</td><td>null</td><td>Rain</td><td>2024-12-25T19:47:31.86Z</td></tr><tr><td>null</td><td>20</td><td>null</td><td>SW</td><td>null</td><td>Sunny</td><td>2024-12-25T19:47:37.001Z</td></tr><tr><td>null</td><td>15</td><td>null</td><td>NE</td><td>null</td><td>Rain</td><td>2024-12-25T19:47:42.141Z</td></tr><tr><td>null</td><td>73</td><td>null</td><td>SE</td><td>null</td><td>Sunny</td><td>2024-12-25T19:47:48.266Z</td></tr><tr><td>null</td><td>56</td><td>null</td><td>W</td><td>null</td><td>Sunny</td><td>2024-12-25T19:47:53.407Z</td></tr><tr><td>null</td><td>66</td><td>null</td><td>SW</td><td>null</td><td>Sunny</td><td>2024-12-25T19:47:58.548Z</td></tr><tr><td>null</td><td>29</td><td>null</td><td>W</td><td>null</td><td>Rain</td><td>2024-12-25T19:48:03.689Z</td></tr><tr><td>null</td><td>62</td><td>null</td><td>NE</td><td>null</td><td>Partly Cloudy</td><td>2024-12-25T19:48:08.829Z</td></tr><tr><td>null</td><td>16</td><td>null</td><td>NE</td><td>null</td><td>Snow</td><td>2024-12-25T19:48:13.97Z</td></tr><tr><td>null</td><td>93</td><td>null</td><td>W</td><td>null</td><td>Snow</td><td>2024-12-25T19:48:19.111Z</td></tr><tr><td>null</td><td>57</td><td>null</td><td>W</td><td>null</td><td>Sunny</td><td>2024-12-25T19:48:24.329Z</td></tr><tr><td>null</td><td>82</td><td>null</td><td>SW</td><td>null</td><td>Snow</td><td>2024-12-25T19:48:29.548Z</td></tr><tr><td>null</td><td>26</td><td>null</td><td>NE</td><td>null</td><td>Sunny</td><td>2024-12-25T19:48:34.751Z</td></tr><tr><td>null</td><td>85</td><td>null</td><td>SE</td><td>null</td><td>Overcast</td><td>2024-12-25T19:48:39.908Z</td></tr><tr><td>null</td><td>13</td><td>null</td><td>W</td><td>null</td><td>Overcast</td><td>2024-12-25T19:48:45.283Z</td></tr><tr><td>null</td><td>83</td><td>null</td><td>SE</td><td>null</td><td>Rain</td><td>2024-12-25T19:48:50.439Z</td></tr><tr><td>null</td><td>44</td><td>null</td><td>W</td><td>null</td><td>Snow</td><td>2024-12-25T19:48:55.58Z</td></tr><tr><td>null</td><td>63</td><td>null</td><td>NW</td><td>null</td><td>Partly Cloudy</td><td>2024-12-25T19:54:02.069Z</td></tr><tr><td>null</td><td>95</td><td>null</td><td>NE</td><td>null</td><td>Partly Cloudy</td><td>2024-12-25T19:53:41.475Z</td></tr><tr><td>null</td><td>77</td><td>null</td><td>N</td><td>null</td><td>Partly Cloudy</td><td>2024-12-25T19:53:56.912Z</td></tr><tr><td>null</td><td>72</td><td>null</td><td>S</td><td>null</td><td>Partly Cloudy</td><td>2024-12-25T19:54:48.351Z</td></tr><tr><td>null</td><td>28</td><td>null</td><td>NE</td><td>null</td><td>Overcast</td><td>2024-12-25T19:53:46.615Z</td></tr><tr><td>null</td><td>73</td><td>null</td><td>NE</td><td>null</td><td>Overcast</td><td>2024-12-25T19:54:53.507Z</td></tr><tr><td>null</td><td>15</td><td>null</td><td>N</td><td>null</td><td>Overcast</td><td>2024-12-25T19:54:12.35Z</td></tr><tr><td>null</td><td>96</td><td>null</td><td>W</td><td>null</td><td>Overcast</td><td>2024-12-25T19:54:17.491Z</td></tr><tr><td>null</td><td>38</td><td>null</td><td>NE</td><td>null</td><td>Overcast</td><td>2024-12-25T19:54:07.209Z</td></tr><tr><td>null</td><td>54</td><td>null</td><td>SE</td><td>null</td><td>Sunny</td><td>2024-12-25T19:54:58.663Z</td></tr><tr><td>null</td><td>13</td><td>null</td><td>SW</td><td>null</td><td>Snow</td><td>2024-12-25T19:54:43.21Z</td></tr><tr><td>null</td><td>36</td><td>null</td><td>W</td><td>null</td><td>Rain</td><td>2024-12-25T19:54:22.647Z</td></tr><tr><td>null</td><td>82</td><td>null</td><td>S</td><td>null</td><td>Sunny</td><td>2024-12-25T19:54:38.069Z</td></tr><tr><td>null</td><td>38</td><td>null</td><td>N</td><td>null</td><td>Rain</td><td>2024-12-25T19:53:51.756Z</td></tr><tr><td>null</td><td>61</td><td>null</td><td>NW</td><td>null</td><td>Rain</td><td>2024-12-25T19:54:27.788Z</td></tr><tr><td>null</td><td>12</td><td>null</td><td>S</td><td>null</td><td>Rain</td><td>2024-12-25T19:54:32.928Z</td></tr></tbody></table></div>"
      ]
     },
     "metadata": {
      "application/vnd.databricks.v1+output": {
       "addedWidgets": {},
       "aggData": [],
       "aggError": "",
       "aggOverflow": false,
       "aggSchema": [],
       "aggSeriesLimitReached": false,
       "aggType": "",
       "arguments": {},
       "columnCustomDisplayInfos": {},
       "data": [
        [
         null,
         47,
         null,
         "NW",
         null,
         "Partly Cloudy",
         "2024-12-25T19:45:28.015Z"
        ],
        [
         null,
         92,
         null,
         "W",
         null,
         "Rain",
         "2024-12-25T19:45:33.202Z"
        ],
        [
         null,
         11,
         null,
         "W",
         null,
         "Partly Cloudy",
         "2024-12-25T19:45:38.359Z"
        ],
        [
         null,
         60,
         null,
         "NW",
         null,
         "Partly Cloudy",
         "2024-12-25T19:45:43.515Z"
        ],
        [
         null,
         72,
         null,
         "NW",
         null,
         "Overcast",
         "2024-12-25T19:45:48.671Z"
        ],
        [
         null,
         18,
         null,
         "SE",
         null,
         "Snow",
         "2024-12-25T19:45:53.812Z"
        ],
        [
         null,
         65,
         null,
         "N",
         null,
         "Rain",
         "2024-12-25T19:45:58.968Z"
        ],
        [
         null,
         51,
         null,
         "NE",
         null,
         "Rain",
         "2024-12-25T19:46:04.124Z"
        ],
        [
         null,
         18,
         null,
         "E",
         null,
         "Snow",
         "2024-12-25T19:46:09.265Z"
        ],
        [
         null,
         60,
         null,
         "S",
         null,
         "Partly Cloudy",
         "2024-12-25T19:46:14.422Z"
        ],
        [
         null,
         45,
         null,
         "SW",
         null,
         "Sunny",
         "2024-12-25T19:46:19.562Z"
        ],
        [
         null,
         95,
         null,
         "S",
         null,
         "Overcast",
         "2024-12-25T19:46:24.875Z"
        ],
        [
         null,
         37,
         null,
         "S",
         null,
         "Rain",
         "2024-12-25T19:46:30.015Z"
        ],
        [
         null,
         98,
         null,
         "E",
         null,
         "Partly Cloudy",
         "2024-12-25T19:46:35.203Z"
        ],
        [
         null,
         18,
         null,
         "W",
         null,
         "Rain",
         "2024-12-25T19:46:40.344Z"
        ],
        [
         null,
         12,
         null,
         "S",
         null,
         "Partly Cloudy",
         "2024-12-25T19:46:45.484Z"
        ],
        [
         null,
         38,
         null,
         "N",
         null,
         "Partly Cloudy",
         "2024-12-25T19:46:50.625Z"
        ],
        [
         null,
         42,
         null,
         "S",
         null,
         "Sunny",
         "2024-12-25T19:46:55.766Z"
        ],
        [
         null,
         83,
         null,
         "NW",
         null,
         "Snow",
         "2024-12-25T19:47:01Z"
        ],
        [
         null,
         97,
         null,
         "SE",
         null,
         "Snow",
         "2024-12-25T19:47:06.141Z"
        ],
        [
         null,
         63,
         null,
         "SE",
         null,
         "Sunny",
         "2024-12-25T19:47:11.282Z"
        ],
        [
         null,
         63,
         null,
         "NW",
         null,
         "Overcast",
         "2024-12-25T19:47:16.422Z"
        ],
        [
         null,
         100,
         null,
         "S",
         null,
         "Snow",
         "2024-12-25T19:47:21.563Z"
        ],
        [
         null,
         62,
         null,
         "NE",
         null,
         "Partly Cloudy",
         "2024-12-25T19:47:26.719Z"
        ],
        [
         null,
         10,
         null,
         "SW",
         null,
         "Rain",
         "2024-12-25T19:47:31.86Z"
        ],
        [
         null,
         20,
         null,
         "SW",
         null,
         "Sunny",
         "2024-12-25T19:47:37.001Z"
        ],
        [
         null,
         15,
         null,
         "NE",
         null,
         "Rain",
         "2024-12-25T19:47:42.141Z"
        ],
        [
         null,
         73,
         null,
         "SE",
         null,
         "Sunny",
         "2024-12-25T19:47:48.266Z"
        ],
        [
         null,
         56,
         null,
         "W",
         null,
         "Sunny",
         "2024-12-25T19:47:53.407Z"
        ],
        [
         null,
         66,
         null,
         "SW",
         null,
         "Sunny",
         "2024-12-25T19:47:58.548Z"
        ],
        [
         null,
         29,
         null,
         "W",
         null,
         "Rain",
         "2024-12-25T19:48:03.689Z"
        ],
        [
         null,
         62,
         null,
         "NE",
         null,
         "Partly Cloudy",
         "2024-12-25T19:48:08.829Z"
        ],
        [
         null,
         16,
         null,
         "NE",
         null,
         "Snow",
         "2024-12-25T19:48:13.97Z"
        ],
        [
         null,
         93,
         null,
         "W",
         null,
         "Snow",
         "2024-12-25T19:48:19.111Z"
        ],
        [
         null,
         57,
         null,
         "W",
         null,
         "Sunny",
         "2024-12-25T19:48:24.329Z"
        ],
        [
         null,
         82,
         null,
         "SW",
         null,
         "Snow",
         "2024-12-25T19:48:29.548Z"
        ],
        [
         null,
         26,
         null,
         "NE",
         null,
         "Sunny",
         "2024-12-25T19:48:34.751Z"
        ],
        [
         null,
         85,
         null,
         "SE",
         null,
         "Overcast",
         "2024-12-25T19:48:39.908Z"
        ],
        [
         null,
         13,
         null,
         "W",
         null,
         "Overcast",
         "2024-12-25T19:48:45.283Z"
        ],
        [
         null,
         83,
         null,
         "SE",
         null,
         "Rain",
         "2024-12-25T19:48:50.439Z"
        ],
        [
         null,
         44,
         null,
         "W",
         null,
         "Snow",
         "2024-12-25T19:48:55.58Z"
        ],
        [
         null,
         63,
         null,
         "NW",
         null,
         "Partly Cloudy",
         "2024-12-25T19:54:02.069Z"
        ],
        [
         null,
         95,
         null,
         "NE",
         null,
         "Partly Cloudy",
         "2024-12-25T19:53:41.475Z"
        ],
        [
         null,
         77,
         null,
         "N",
         null,
         "Partly Cloudy",
         "2024-12-25T19:53:56.912Z"
        ],
        [
         null,
         72,
         null,
         "S",
         null,
         "Partly Cloudy",
         "2024-12-25T19:54:48.351Z"
        ],
        [
         null,
         28,
         null,
         "NE",
         null,
         "Overcast",
         "2024-12-25T19:53:46.615Z"
        ],
        [
         null,
         73,
         null,
         "NE",
         null,
         "Overcast",
         "2024-12-25T19:54:53.507Z"
        ],
        [
         null,
         15,
         null,
         "N",
         null,
         "Overcast",
         "2024-12-25T19:54:12.35Z"
        ],
        [
         null,
         96,
         null,
         "W",
         null,
         "Overcast",
         "2024-12-25T19:54:17.491Z"
        ],
        [
         null,
         38,
         null,
         "NE",
         null,
         "Overcast",
         "2024-12-25T19:54:07.209Z"
        ],
        [
         null,
         54,
         null,
         "SE",
         null,
         "Sunny",
         "2024-12-25T19:54:58.663Z"
        ],
        [
         null,
         13,
         null,
         "SW",
         null,
         "Snow",
         "2024-12-25T19:54:43.21Z"
        ],
        [
         null,
         36,
         null,
         "W",
         null,
         "Rain",
         "2024-12-25T19:54:22.647Z"
        ],
        [
         null,
         82,
         null,
         "S",
         null,
         "Sunny",
         "2024-12-25T19:54:38.069Z"
        ],
        [
         null,
         38,
         null,
         "N",
         null,
         "Rain",
         "2024-12-25T19:53:51.756Z"
        ],
        [
         null,
         61,
         null,
         "NW",
         null,
         "Rain",
         "2024-12-25T19:54:27.788Z"
        ],
        [
         null,
         12,
         null,
         "S",
         null,
         "Rain",
         "2024-12-25T19:54:32.928Z"
        ]
       ],
       "datasetInfos": [],
       "dbfsResultPath": null,
       "isJsonSchema": true,
       "metadata": {
        "isDbfsCommandResult": false
       },
       "overflow": false,
       "plotOptions": {
        "customPlotOptions": {},
        "displayType": "table",
        "pivotAggregation": null,
        "pivotColumns": null,
        "xColumns": null,
        "yColumns": null
       },
       "removedWidgets": [],
       "schema": [
        {
         "metadata": "{}",
         "name": "temperature",
         "type": "\"integer\""
        },
        {
         "metadata": "{}",
         "name": "humidity",
         "type": "\"integer\""
        },
        {
         "metadata": "{}",
         "name": "windSpeed",
         "type": "\"integer\""
        },
        {
         "metadata": "{}",
         "name": "windDirection",
         "type": "\"string\""
        },
        {
         "metadata": "{}",
         "name": "precipitation",
         "type": "\"integer\""
        },
        {
         "metadata": "{}",
         "name": "conditions",
         "type": "\"string\""
        },
        {
         "metadata": "{}",
         "name": "timestamp",
         "type": "\"timestamp\""
        }
       ],
       "type": "table"
      }
     },
     "output_type": "display_data"
    }
   ],
   "source": [
    "df = spark.readStream\\\n",
    "    .format(\"delta\")\\\n",
    "    .table(\"streaming.bronze.weather\")\\\n",
    "    .withColumn(\"body\", col(\"body\").cast(\"string\"))\\\n",
    "    .withColumn(\"body\",from_json(col(\"body\"), json_schema))\\\n",
    "    .select(\"body.temperature\", \"body.humidity\", \"body.windSpeed\", \"body.windDirection\", \"body.precipitation\", \"body.conditions\", col(\"enqueuedTime\").alias('timestamp'))\n",
    "\n",
    "df.display()\n",
    "\n",
    "df.writeStream\\\n",
    "    .option(\"checkpointLocation\", \"/mnt/streaming/silver/weather\")\\\n",
    "    .outputMode(\"append\")\\\n",
    "    .format(\"delta\")\\\n",
    "    .toTable(\"streaming.silver.weather\")"
   ]
  },
  {
   "cell_type": "markdown",
   "metadata": {
    "application/vnd.databricks.v1+cell": {
     "cellMetadata": {},
     "inputWidgets": {},
     "nuid": "4078a144-9652-490b-adf3-348ad8780e95",
     "showTitle": false,
     "tableResultSettingsMap": {},
     "title": ""
    }
   },
   "source": [
    "#### Gold Layer"
   ]
  },
  {
   "cell_type": "markdown",
   "metadata": {
    "application/vnd.databricks.v1+cell": {
     "cellMetadata": {},
     "inputWidgets": {},
     "nuid": "53c07779-5a57-4f70-8c90-34554f8a82b1",
     "showTitle": false,
     "tableResultSettingsMap": {},
     "title": ""
    }
   },
   "source": [
    "Reading, aggregating and writing the stream from the silver to the gold layer."
   ]
  },
  {
   "cell_type": "code",
   "execution_count": 0,
   "metadata": {
    "application/vnd.databricks.v1+cell": {
     "cellMetadata": {
      "byteLimit": 2048000,
      "rowLimit": 10000
     },
     "inputWidgets": {},
     "nuid": "cb4b337b-6bb7-490d-b1d3-2e8b83456661",
     "showTitle": false,
     "tableResultSettingsMap": {},
     "title": ""
    }
   },
   "outputs": [
    {
     "data": {
      "text/html": [
       "<style scoped>\n",
       "  .table-result-container {\n",
       "    max-height: 300px;\n",
       "    overflow: auto;\n",
       "  }\n",
       "  table, th, td {\n",
       "    border: 1px solid black;\n",
       "    border-collapse: collapse;\n",
       "  }\n",
       "  th, td {\n",
       "    padding: 5px;\n",
       "  }\n",
       "  th {\n",
       "    text-align: left;\n",
       "  }\n",
       "</style><div class='table-result-container'><table class='table-result'><thead style='background-color: white'><tr><th>start</th><th>end</th><th>temperature</th><th>humidity</th><th>windSpeed</th><th>precipitation</th></tr></thead><tbody><tr><td>2024-12-25T19:45:00Z</td><td>2024-12-25T19:50:00Z</td><td>null</td><td>53.09756097560975</td><td>null</td><td>null</td></tr><tr><td>2024-12-25T19:50:00Z</td><td>2024-12-25T19:55:00Z</td><td>null</td><td>53.3125</td><td>null</td><td>null</td></tr></tbody></table></div>"
      ]
     },
     "metadata": {
      "application/vnd.databricks.v1+output": {
       "addedWidgets": {},
       "aggData": [],
       "aggError": "",
       "aggOverflow": false,
       "aggSchema": [],
       "aggSeriesLimitReached": false,
       "aggType": "",
       "arguments": {},
       "columnCustomDisplayInfos": {},
       "data": [
        [
         "2024-12-25T19:45:00Z",
         "2024-12-25T19:50:00Z",
         null,
         53.09756097560975,
         null,
         null
        ],
        [
         "2024-12-25T19:50:00Z",
         "2024-12-25T19:55:00Z",
         null,
         53.3125,
         null,
         null
        ]
       ],
       "datasetInfos": [],
       "dbfsResultPath": null,
       "isJsonSchema": true,
       "metadata": {
        "isDbfsCommandResult": false
       },
       "overflow": false,
       "plotOptions": {
        "customPlotOptions": {},
        "displayType": "table",
        "pivotAggregation": null,
        "pivotColumns": null,
        "xColumns": null,
        "yColumns": null
       },
       "removedWidgets": [],
       "schema": [
        {
         "metadata": "{}",
         "name": "start",
         "type": "\"timestamp\""
        },
        {
         "metadata": "{}",
         "name": "end",
         "type": "\"timestamp\""
        },
        {
         "metadata": "{}",
         "name": "temperature",
         "type": "\"double\""
        },
        {
         "metadata": "{}",
         "name": "humidity",
         "type": "\"double\""
        },
        {
         "metadata": "{}",
         "name": "windSpeed",
         "type": "\"double\""
        },
        {
         "metadata": "{}",
         "name": "precipitation",
         "type": "\"double\""
        }
       ],
       "type": "table"
      }
     },
     "output_type": "display_data"
    }
   ],
   "source": [
    "df = spark.readStream\\\n",
    "    .format(\"delta\")\\\n",
    "    .table(\"streaming.silver.weather\")\\\n",
    "    .withWatermark(\"timestamp\", \"5 minutes\") \\\n",
    "    .groupBy(window(\"timestamp\", \"5 minutes\")) \\\n",
    "    .agg(avg(\"temperature\").alias('temperature'), avg(\"humidity\").alias('humidity'), avg(\"windSpeed\").alias('windSpeed'), avg(\"precipitation\").alias('precipitation'))\\\n",
    "\t.select('window.start', 'window.end', 'temperature', 'humidity', 'windSpeed', 'precipitation')\n",
    "\n",
    "df.display()\n",
    "\n",
    "df.writeStream\\\n",
    "    .option(\"checkpointLocation\", \"/mnt/streaming/weather_summary\")\\\n",
    "    .outputMode(\"append\")\\\n",
    "    .format(\"delta\")\\\n",
    "    .toTable(\"streaming.gold.weather_summary\")"
   ]
  }
 ],
 "metadata": {
  "application/vnd.databricks.v1+notebook": {
   "computePreferences": null,
   "dashboards": [],
   "environmentMetadata": null,
   "language": "python",
   "notebookMetadata": {
    "mostRecentlyExecutedCommandWithImplicitDF": {
     "commandId": 3252135154637181,
     "dataframes": [
      "_sqldf"
     ]
    },
    "pythonIndentUnit": 4
   },
   "notebookName": "Real-time Data Processing with Azure Databricks",
   "widgets": {}
  },
  "language_info": {
   "name": "python"
  }
 },
 "nbformat": 4,
 "nbformat_minor": 0
}
